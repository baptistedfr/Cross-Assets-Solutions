{
 "cells": [
  {
   "cell_type": "code",
   "execution_count": 47,
   "metadata": {},
   "outputs": [],
   "source": [
    "import pandas as pd\n",
    "import numpy as np\n",
    "import matplotlib.pyplot as plt\n",
    "from portfolio import FractilePortfolio\n",
    "from enum import Enum\n",
    "from tqdm import tqdm\n",
    "from results import Results   \n",
    "import warnings\n",
    "warnings.filterwarnings(\"ignore\")\n",
    "import plotly.express as px\n",
    "import plotly.graph_objects as go"
   ]
  },
  {
   "cell_type": "code",
   "execution_count": 11,
   "metadata": {},
   "outputs": [],
   "source": [
    "df = pd.read_excel(\"datas/Stoxx600_sectors_prices_cleen.xlsx\", sheet_name=\"Sheet1\")"
   ]
  },
  {
   "cell_type": "code",
   "execution_count": 12,
   "metadata": {},
   "outputs": [],
   "source": [
    "price_df = df.set_index(\"Date\")\n",
    "returns_df = price_df.pct_change().fillna(0).reset_index()\n",
    "\n",
    "# Initialiser la structure du DataFrame final\n",
    "factor_df = pd.DataFrame()\n",
    "factor_df[\"Date\"] = np.repeat(price_df.index, len(price_df.columns))\n",
    "factor_df[\"Ticker\"] = np.tile(price_df.columns, len(price_df))\n",
    "\n",
    "\n",
    "P_t_12 = price_df.shift(252)\n",
    "P_t_1 = price_df.shift(21)\n",
    "factor_df[\"Momentum\"] = (P_t_1 / P_t_12 - 1).values.flatten()\n",
    "factor_df.dropna(inplace=True)\n",
    "all_dates = sorted(set(factor_df[\"Date\"].tolist()))"
   ]
  },
  {
   "cell_type": "code",
   "execution_count": 13,
   "metadata": {},
   "outputs": [],
   "source": [
    "portfolio = FractilePortfolio(factor_df,\"Momentum\", 4)"
   ]
  },
  {
   "cell_type": "code",
   "execution_count": 14,
   "metadata": {},
   "outputs": [],
   "source": [
    "class FrequencyType(Enum):\n",
    "    DAILY = 252 # 252 jours de trading dans une année\n",
    "    WEEKLY = 52 # 52 semaines dans une année\n",
    "    MONTHLY = 12 # 12 mois dans une année\n",
    "    HALF_EXPOSURE = \"HALF_EXPOSURE\" # Exposition demie vie\n",
    "    UNDESIRED_EXPOSURE = \"UNDESIRED\" # Exposition non désirée"
   ]
  },
  {
   "cell_type": "code",
   "execution_count": 15,
   "metadata": {},
   "outputs": [],
   "source": [
    "def get_rebalancing_dates(dates : list, frequency: FrequencyType) -> list[int]:\n",
    "    \"\"\"\n",
    "    Repère les indices correspondant aux dates de rebalancement en fonction de la fréquence donnée.\n",
    "    \n",
    "    Args:\n",
    "        dates (list[pd.Timestamp]): Liste des dates disponibles.\n",
    "        frequency (FrequencyType): Fréquence de rebalancement souhaitée.\n",
    "    \n",
    "    Returns:\n",
    "        list[int]: Indices des dates de rebalancement.\n",
    "    \"\"\"\n",
    "    date_series = pd.Series(dates).sort_values().reset_index(drop=True)\n",
    "    if frequency == FrequencyType.MONTHLY:\n",
    "        # On récupère la dernière date de chaque mois\n",
    "        rebalancing_dates = date_series.groupby(date_series.dt.to_period(\"M\")).last().tolist()\n",
    "    elif frequency == FrequencyType.WEEKLY:\n",
    "        # On récupère la dernière date de chaque semaine\n",
    "        rebalancing_dates = date_series.groupby(date_series.dt.to_period(\"W\")).last().tolist()\n",
    "    elif frequency == FrequencyType.DAILY:\n",
    "        # Toutes les dates sont des dates de rebalancement\n",
    "        rebalancing_dates = date_series.tolist()\n",
    "    else:\n",
    "        raise ValueError(\"Fréquence non reconnue. Utilisez 'MONTHLY', 'WEEKLY' ou 'DAILY'.\")\n",
    "    \n",
    "    indices = [date_series[date_series == d].index[0] for d in rebalancing_dates]\n",
    "\n",
    "    return indices\n",
    "\n",
    "def calculate_transaction_costs(old_weights: dict, new_weights: dict, fees: float) -> float:\n",
    "    \"\"\"\n",
    "    Calcule les frais de transaction basés sur les changements de poids.\n",
    "\n",
    "    Args:\n",
    "        old_weights (dict): Poids des actifs avant le rebalancement (ticker -> poids).\n",
    "        new_weights (dict): Poids des actifs après le rebalancement (ticker -> poids).\n",
    "        fees (float): Taux des frais de transaction (par exemple, 0.0005 pour 0.05%).\n",
    "\n",
    "    Returns:\n",
    "        float: Coût total des transactions.\n",
    "    \"\"\"\n",
    "    # Obtenir l'ensemble des tickers impliqués\n",
    "    all_tickers = set(old_weights.keys()).union(set(new_weights.keys()))\n",
    "\n",
    "    # Calculer les frais de transaction pour chaque ticker\n",
    "    transaction_costs = fees * np.sum(\n",
    "        np.abs(np.array([new_weights.get(t, 0) - old_weights.get(t, 0) for t in all_tickers]))\n",
    "    )\n",
    "\n",
    "    return transaction_costs\n",
    "\n",
    "def output(strategy_name : str, stored_values : list[float], stored_weights : list[float], \n",
    "               dates : list, rebalancing_dates : list , \n",
    "               fees : float = 0, frequency_data : FrequencyType = FrequencyType.DAILY) -> Results :\n",
    "        \"\"\"Create the output for the strategy and its benchmark if selected\n",
    "        \n",
    "        Args:\n",
    "            stored_values (list[float]): Value of the strategy over time\n",
    "            stored_weights (list[float]): Weights of every asset in the strategy over time\n",
    "            strategy_name (str) : Name of the current strategy\n",
    "\n",
    "        Returns:\n",
    "            Results: A Results object containing statistics and comparison plot for the strategy (& the benchmark if selected)\n",
    "        \"\"\"\n",
    "\n",
    "        ptf_weights = pd.DataFrame(stored_weights).T\n",
    "        ptf_values = pd.Series(stored_values, index=dates)\n",
    "        ptf_rebalacing = pd.Series([1 if date in rebalancing_dates else 0 for date in dates], index=dates)\n",
    "\n",
    "\n",
    "        results_strat = Results(ptf_values=ptf_values, ptf_weights=ptf_weights, \n",
    "                                ptf_rebalancing=ptf_rebalacing, total_fees = fees,\n",
    "                                strategy_name=strategy_name, data_frequency=frequency_data)\n",
    "        \n",
    "        results_strat.get_statistics()\n",
    "        results_strat.create_plots()\n",
    "\n",
    "        return results_strat"
   ]
  },
  {
   "cell_type": "code",
   "execution_count": null,
   "metadata": {},
   "outputs": [
    {
     "name": "stdout",
     "output_type": "stream",
     "text": []
    },
    {
     "name": "stdout",
     "output_type": "stream",
     "text": []
    }
   ],
   "source": [
    "strat_value = 100\n",
    "total_fees = 0\n",
    "stored_values = [strat_value]\n",
    "weights_dict = {}\n",
    "fees=0.0000\n",
    "\n",
    "# Premier rebalancement\n",
    "df_subset = factor_df.loc[(factor_df[\"Date\"] == all_dates[0]), :]\n",
    "initial_ptf = portfolio.construct_portfolio(\n",
    "    df_subset,\n",
    "    rebalance_weight=True\n",
    ")\n",
    "weights = dict(zip(initial_ptf['Ticker'], initial_ptf['Weight']))\n",
    "weights_dict[all_dates[0]] = weights\n",
    "\n",
    "\n",
    "rebalancing_dates = get_rebalancing_dates(all_dates, FrequencyType.MONTHLY)\n",
    "tickers = price_df.columns\n",
    "rebalancing_dt = []\n",
    "\n",
    "for t in tqdm(range(1, len(all_dates)), desc=f\"Running Backtesting\", leave = False):\n",
    "\n",
    "    returns_dict = returns_df.loc[returns_df['Date'] == all_dates[t], tickers].squeeze().to_dict()\n",
    "    prev_weights = np.array([weights_dict[all_dates[t-1]][ticker] for ticker in tickers])\n",
    "\n",
    "    daily_returns = np.array([returns_dict.get(ticker, 0) for ticker in tickers])\n",
    "    return_strat = np.dot(prev_weights, daily_returns)\n",
    "    new_strat_value = strat_value * (1 + return_strat)\n",
    "\n",
    "    # Rebalancement selon le type spécifié\n",
    "    if t in rebalancing_dates:\n",
    "\n",
    "        rebalancing_dt.append(all_dates[t])\n",
    "        df_subset = factor_df.loc[(factor_df[\"Date\"] == all_dates[t]), :]\n",
    "            \n",
    "        # Construire le portefeuille avec les nouveaux poids\n",
    "        df_ptf = portfolio.construct_portfolio(\n",
    "            df_subset,\n",
    "            rebalance_weight=True\n",
    "        )\n",
    "        new_weights = dict(zip(df_ptf['Ticker'], df_ptf['Weight']))\n",
    "        transaction_costs = calculate_transaction_costs(weights, new_weights, fees)\n",
    "        total_fees+=transaction_costs\n",
    "        new_strat_value -= strat_value * transaction_costs\n",
    "              \n",
    "    else:\n",
    "        new_weights = {ticker: weights[ticker] * (1 + returns_dict[ticker]) for ticker in weights}\n",
    "        total_weight = sum(new_weights.values())\n",
    "        new_weights = {ticker: weight / total_weight for ticker, weight in new_weights.items()}\n",
    "    # Stockage des nouveaux poids et valeurs\n",
    "    weights_dict[all_dates[t]] = new_weights\n",
    "    stored_values.append(new_strat_value)\n",
    "\n",
    "    weights = new_weights\n",
    "    strat_value = new_strat_value\n",
    "result = output(f\"Momentum\", stored_values, weights_dict, all_dates, rebalancing_dt, total_fees)"
   ]
  },
  {
   "cell_type": "code",
   "execution_count": 41,
   "metadata": {},
   "outputs": [
    {
     "name": "stdout",
     "output_type": "stream",
     "text": []
    },
    {
     "name": "stdout",
     "output_type": "stream",
     "text": []
    },
    {
     "name": "stdout",
     "output_type": "stream",
     "text": []
    },
    {
     "name": "stdout",
     "output_type": "stream",
     "text": []
    }
   ],
   "source": [
    "print(result.df_statistics.head(10))\n",
    "\n",
    "result.ptf_value_plot.show()\n",
    "result.ptf_drawdown_plot.show() \n",
    "result.ptf_weights_plot"
   ]
  },
  {
   "cell_type": "code",
   "execution_count": 53,
   "metadata": {},
   "outputs": [],
   "source": [
    "stoxx = pd.read_excel(\"datas/stoxx600.xlsx\")\n",
    "stoxx = stoxx.set_index(\"Date\")"
   ]
  },
  {
   "cell_type": "code",
   "execution_count": 50,
   "metadata": {},
   "outputs": [],
   "source": [
    "data = pd.DataFrame(stored_values, index=all_dates, columns=[\"Momentum\"])"
   ]
  },
  {
   "cell_type": "code",
   "execution_count": 54,
   "metadata": {},
   "outputs": [],
   "source": [
    "df = data.merge(stoxx, left_index=True, right_index=True, how=\"left\")"
   ]
  },
  {
   "cell_type": "code",
   "execution_count": 56,
   "metadata": {},
   "outputs": [],
   "source": [
    "df['SXXP Index'] = df['SXXP Index'] / df['SXXP Index'].iloc[0] * 100"
   ]
  },
  {
   "cell_type": "code",
   "execution_count": 60,
   "metadata": {},
   "outputs": [
    {
     "name": "stdout",
     "output_type": "stream",
     "text": []
    }
   ],
   "source": [
    "fig = go.Figure()\n",
    "\n",
    "# Ajout des courbes\n",
    "fig.add_trace(go.Scatter(x=df.index, y=df[\"Momentum\"], mode='lines', name=\"Momentum\"))\n",
    "fig.add_trace(go.Scatter(x=df.index, y=df[\"SXXP Index\"], mode='lines', name=\"SXXP Index\", line=dict(dash=\"dash\")))\n",
    "\n",
    "# Personnalisation du graphique\n",
    "fig.update_layout(title=\"Évolution de Momentum et SXXP Index\",\n",
    "                  xaxis_title=\"Date\",\n",
    "                  yaxis_title=\"Valeur\",\n",
    "                  template=\"plotly_white\",\n",
    "                  xaxis=dict(tickangle=-45))\n",
    "\n",
    "# Affichage\n",
    "fig.show()"
   ]
  },
  {
   "cell_type": "code",
   "execution_count": 61,
   "metadata": {},
   "outputs": [
    {
     "name": "stdout",
     "output_type": "stream",
     "text": []
    }
   ],
   "source": [
    "def compute_drawdown(series):\n",
    "    peak = series.cummax()  # Maximum atteint jusqu'à chaque point\n",
    "    drawdown = (series - peak) / peak  # Drawdown en pourcentage\n",
    "    return drawdown\n",
    "\n",
    "df[\"Drawdown_Momentum\"] = compute_drawdown(df[\"Momentum\"])\n",
    "df[\"Drawdown_SXXP\"] = compute_drawdown(df[\"SXXP Index\"])\n",
    "\n",
    "# Création de la figure Plotly\n",
    "fig = go.Figure()\n",
    "\n",
    "# Ajout des courbes de drawdown\n",
    "fig.add_trace(go.Scatter(x=df.index, y=df[\"Drawdown_Momentum\"], \n",
    "                         mode='lines', name=\"Drawdown Momentum\", \n",
    "                         line=dict(color='red')))\n",
    "fig.add_trace(go.Scatter(x=df.index, y=df[\"Drawdown_SXXP\"], \n",
    "                         mode='lines', name=\"Drawdown SXXP Index\", \n",
    "                         line=dict(color='blue', dash=\"dash\")))\n",
    "\n",
    "# Personnalisation du graphique\n",
    "fig.update_layout(title=\"Drawdowns de Momentum et SXXP Index\",\n",
    "                  xaxis_title=\"Date\",\n",
    "                  yaxis_title=\"Drawdown (%)\",\n",
    "                  template=\"plotly_white\",\n",
    "                  xaxis=dict(tickangle=-45),\n",
    "                  yaxis=dict(tickformat=\".2%\"),  # Format en pourcentage\n",
    "                  shapes=[dict(type=\"line\", x0=df.index.min(), x1=df.index.max(), \n",
    "                               y0=0, y1=0, line=dict(color=\"black\", width=1, dash=\"dot\"))])  # Ligne à 0%\n",
    "\n",
    "# Affichage\n",
    "fig.show()\n"
   ]
  }
 ],
 "metadata": {
  "kernelspec": {
   "display_name": "base",
   "language": "python",
   "name": "python3"
  },
  "language_info": {
   "codemirror_mode": {
    "name": "ipython",
    "version": 3
   },
   "file_extension": ".py",
   "mimetype": "text/x-python",
   "name": "python",
   "nbconvert_exporter": "python",
   "pygments_lexer": "ipython3",
   "version": "3.12.3"
  }
 },
 "nbformat": 4,
 "nbformat_minor": 2
}
